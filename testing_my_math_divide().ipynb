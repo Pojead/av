{
  "nbformat": 4,
  "nbformat_minor": 0,
  "metadata": {
    "colab": {
      "name": "testing_my_math.divide().ipynb",
      "provenance": [],
      "include_colab_link": true
    },
    "kernelspec": {
      "name": "python3",
      "display_name": "Python 3"
    },
    "language_info": {
      "name": "python"
    }
  },
  "cells": [
    {
      "cell_type": "markdown",
      "metadata": {
        "id": "view-in-github",
        "colab_type": "text"
      },
      "source": [
        "<a href=\"https://colab.research.google.com/github/Pojead/av/blob/main/testing_my_math_divide().ipynb\" target=\"_parent\"><img src=\"https://colab.research.google.com/assets/colab-badge.svg\" alt=\"Open In Colab\"/></a>"
      ]
    },
    {
      "cell_type": "markdown",
      "source": [
        "## Testing  my_math.divide()\n",
        "\n",
        "What is your preferred testing strategy? Do you like using the assert statement or prefer doctest?  \n",
        "\n",
        "Using your preferred testing strategy, develop a test table and test the following funciton.  Where required update the function so all test behave as expected.\n",
        "\n",
        "\n",
        "## Function to test"
      ],
      "metadata": {
        "id": "LIfoDVzKX7uK"
      }
    },
    {
      "cell_type": "code",
      "source": [
        "import doctest\n",
        "\n",
        "def divide(x, y):\n",
        "    '''Divide two numbers\n",
        "    >>>> divide(10,5)\n",
        "    2\n",
        "    '''\n",
        "    return x / y\n",
        "\n",
        "import doctest\n",
        "def isNumber(x):\n",
        "  return (type(x) == int or type(x) == float)\n",
        "def divide (x,y):\n",
        "\n",
        "  if isNumber(x) and isNumber(y):\n",
        "    return x/y\n",
        "  return 'not a number'\n",
        "doctest.testmod()"
      ],
      "metadata": {
        "id": "YH9gDoOYvKwg",
        "outputId": "551a01c2-23e2-48a2-87ce-0f15b01613ed",
        "colab": {
          "base_uri": "https://localhost:8080/"
        }
      },
      "execution_count": 14,
      "outputs": [
        {
          "output_type": "execute_result",
          "data": {
            "text/plain": [
              "TestResults(failed=0, attempted=3)"
            ]
          },
          "metadata": {},
          "execution_count": 14
        }
      ]
    },
    {
      "cell_type": "code",
      "source": [
        "import doctest\n",
        "\n",
        "def isnumber(x):\n",
        "    '''Check if x is a number\n",
        "    >>> isnumber(10)\n",
        "    True\n",
        "    >>> isnumber(5.3)\n",
        "    True\n",
        "    >>> isnumber('hello')\n",
        "    False\n",
        "    '''\n",
        "    return (type(x) == int or type(x) == float)\n",
        "\n",
        "def divide(x, y):\n",
        "    '''Divide two numbers\n",
        "    >>> divide(10, 5)\n",
        "    2.0\n",
        "    '''\n",
        "    if isnumber(x) and isnumber(y):\n",
        "        return x / y\n",
        "    return 'not a number'\n",
        "\n",
        "if __name__ == '__main__':\n",
        "    doctest.testmod()"
      ],
      "metadata": {
        "id": "DYq5pAzWC9Wz"
      },
      "execution_count": 15,
      "outputs": []
    },
    {
      "cell_type": "markdown",
      "source": [
        "## Test Table\n",
        "\n",
        "List you test cases here."
      ],
      "metadata": {
        "id": "JYSZ-53nLF6n"
      }
    },
    {
      "cell_type": "code",
      "source": [
        "import pandas as pd\n",
        "\n",
        "test_table = {\n",
        "    'x': [10, 5.3, 'hello', 10, 0],\n",
        "    'y': [5, 2, 'world', 2, 0],\n",
        "    'result': [2.0, 2.65, 'not a number', 'not a number', 'not a number']\n",
        "}\n",
        "\n",
        "test_df = pd.DataFrame(test_table)\n",
        "print(test_df)"
      ],
      "metadata": {
        "id": "-tApTXZJokyh",
        "outputId": "780997ee-9458-4077-e6eb-49839c90a66f",
        "colab": {
          "base_uri": "https://localhost:8080/"
        }
      },
      "execution_count": 12,
      "outputs": [
        {
          "output_type": "stream",
          "name": "stdout",
          "text": [
            "       x      y        result\n",
            "0     10      5           2.0\n",
            "1    5.3      2          2.65\n",
            "2  hello  world  not a number\n",
            "3     10      2  not a number\n",
            "4      0      0  not a number\n"
          ]
        }
      ]
    }
  ]
}