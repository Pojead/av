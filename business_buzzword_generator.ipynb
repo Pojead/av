{
  "cells": [
    {
      "cell_type": "markdown",
      "metadata": {
        "id": "view-in-github",
        "colab_type": "text"
      },
      "source": [
        "<a href=\"https://colab.research.google.com/github/Pojead/av/blob/main/business_buzzword_generator.ipynb\" target=\"_parent\"><img src=\"https://colab.research.google.com/assets/colab-badge.svg\" alt=\"Open In Colab\"/></a>"
      ]
    },
    {
      "cell_type": "markdown",
      "id": "f8b21259-c1a0-4ecb-a02f-e35565841067",
      "metadata": {
        "id": "f8b21259-c1a0-4ecb-a02f-e35565841067"
      },
      "source": [
        "# Business Buzzword Generator\n",
        "\n",
        "Lets write a real-world business-like application using Python!\n",
        "\n",
        "Want to write a program to generate business phrases.  These could be used as\n",
        "title for presentation, podcast, video, article or just for fun.\n",
        "\n",
        "## Task 0 - Import to GitHub\n",
        "\n",
        "In a browser:\n",
        "* Login to Google\n",
        "* Login to GitHub\n",
        "* Import notebook into Colab\n",
        "* Save to GitHub. Don't forget the commit message.\n",
        "* Complete the tasks saving regularly to GitHub\n",
        "\n",
        "## Task 1 - Convert to Python!\n",
        "\n",
        "As you go through the task, keep in mind our 5-step development process:\n",
        "* State the Problem Clearly\n",
        "* Describe the input and Output\n",
        "* Work a simple example by hand\n",
        "* Develop an algorithm (and convert to Python)\n",
        "* Test solution with a variety of data\n",
        "\n",
        "For this notebook, steps 1-4 have been completed and you only need to convert\n",
        "the supplied pseudocode into Python.\n",
        "\n",
        "The program uses three lists of words. Randomly picks one word from each list\n",
        "and combines the words into a phrase.  Then print out the phrase. Here is\n",
        "the pseudocode:\n",
        "\n",
        "    importing the random module\n",
        "    make three lists, one of buzzword, one of actions, and one of outcomes\n",
        "    randomly choose one buzzword, action, and outcome from each list\n",
        "    now build the phrase by \"adding\" the words together\n",
        "    output the phrase\n",
        "\n",
        "\n",
        "A good way to use pseudocode is make each line(s) a comment(s) in the code.\n",
        "\n",
        "Each line of pseudo code has been pasted into a cell below.  \n",
        "\n",
        "Try to implement each as python statement or statements."
      ]
    },
    {
      "cell_type": "code",
      "execution_count": null,
      "id": "6b9a2fc6-f8ae-4778-a5e7-9659136091fd",
      "metadata": {
        "id": "6b9a2fc6-f8ae-4778-a5e7-9659136091fd"
      },
      "outputs": [],
      "source": [
        "# importing the random module"
      ]
    },
    {
      "cell_type": "code",
      "source": [
        "import random"
      ],
      "metadata": {
        "id": "Px1KRIka4BFc"
      },
      "id": "Px1KRIka4BFc",
      "execution_count": null,
      "outputs": []
    },
    {
      "cell_type": "code",
      "execution_count": null,
      "id": "52db4e24-c2e3-46f2-8a96-0fece1f437f2",
      "metadata": {
        "id": "52db4e24-c2e3-46f2-8a96-0fece1f437f2"
      },
      "outputs": [],
      "source": [
        "#  make three lists, one of buzzwords, one of actions, and one of outcomes"
      ]
    },
    {
      "cell_type": "code",
      "source": [
        "verbs = ['actualize' , 'administrate' , 'aggregate']\n",
        "adjectives = ['accurate' , 'adaptive' , 'agile']\n",
        "nouns = ['content' , 'convergence' , 'core competencies']"
      ],
      "metadata": {
        "id": "JAfxjNr44FdE"
      },
      "id": "JAfxjNr44FdE",
      "execution_count": null,
      "outputs": []
    },
    {
      "cell_type": "code",
      "execution_count": null,
      "id": "2538b8fa-1dc9-4bfd-84d8-6753b9a88218",
      "metadata": {
        "id": "2538b8fa-1dc9-4bfd-84d8-6753b9a88218"
      },
      "outputs": [],
      "source": [
        "# randomly choose one buzzword, action, and outcome from each list"
      ]
    },
    {
      "cell_type": "code",
      "source": [
        "import random\n",
        "verb = random.choice(verbs)\n",
        "adjectives = random.choice(adjectives)\n",
        "nouns = random.choice(nouns)"
      ],
      "metadata": {
        "id": "TQ7DXWCo4iMp"
      },
      "id": "TQ7DXWCo4iMp",
      "execution_count": null,
      "outputs": []
    },
    {
      "cell_type": "code",
      "execution_count": null,
      "id": "95c40fea-40d0-49e6-afe5-c181da731368",
      "metadata": {
        "id": "95c40fea-40d0-49e6-afe5-c181da731368"
      },
      "outputs": [],
      "source": [
        "# build the phrase by \"adding\" the words together"
      ]
    },
    {
      "cell_type": "code",
      "source": [
        "phrase = verb + '' + adjective + '' + noun"
      ],
      "metadata": {
        "id": "uC6X8ppv4tob"
      },
      "id": "uC6X8ppv4tob",
      "execution_count": null,
      "outputs": []
    },
    {
      "cell_type": "code",
      "execution_count": null,
      "id": "3e36c71d-ef4b-40d5-ac7f-a7717460e28f",
      "metadata": {
        "id": "3e36c71d-ef4b-40d5-ac7f-a7717460e28f"
      },
      "outputs": [],
      "source": [
        "# output the phrase"
      ]
    },
    {
      "cell_type": "code",
      "source": [
        "print(phrase)"
      ],
      "metadata": {
        "colab": {
          "base_uri": "https://localhost:8080/",
          "height": 141
        },
        "id": "WN8K8kFN5HSD",
        "outputId": "6f2168cf-6b4c-4b0e-d355-0741b9d38820"
      },
      "id": "WN8K8kFN5HSD",
      "execution_count": 1,
      "outputs": [
        {
          "output_type": "error",
          "ename": "NameError",
          "evalue": "name 'phrase' is not defined",
          "traceback": [
            "\u001b[0;31m---------------------------------------------------------------------------\u001b[0m",
            "\u001b[0;31mNameError\u001b[0m                                 Traceback (most recent call last)",
            "\u001b[0;32m<ipython-input-1-6de426c4b2a5>\u001b[0m in \u001b[0;36m<cell line: 1>\u001b[0;34m()\u001b[0m\n\u001b[0;32m----> 1\u001b[0;31m \u001b[0mprint\u001b[0m\u001b[0;34m(\u001b[0m\u001b[0mphrase\u001b[0m\u001b[0;34m)\u001b[0m\u001b[0;34m\u001b[0m\u001b[0;34m\u001b[0m\u001b[0m\n\u001b[0m",
            "\u001b[0;31mNameError\u001b[0m: name 'phrase' is not defined"
          ]
        }
      ]
    },
    {
      "cell_type": "markdown",
      "id": "5c5d439f",
      "metadata": {
        "id": "5c5d439f"
      },
      "source": [
        "## Task 2 (Optional) - Phrase Generator\n",
        "\n",
        "This task is optional.  For this task, lets think about way we could extend\n",
        "the program.  Here are some question to think about.  No Python code is needed.\n",
        "Thinking is probably enough, but if you want you can write a couple of\n",
        "sentences on what you think is required.\n",
        "* Can it be modified to generate other types of phrases? How about three lists of ingredients, and generate simple recipes? How about and idea or project generator?\n",
        "* Why limit it to three words?  \n",
        "* Does the order of the words matter?\n",
        "* Could we create sentences? If we create sentences, could we combine them to create paragraphs? Could we specify a topic, and have the program write an essay? Would this make it 'smart'?\n"
      ]
    },
    {
      "cell_type": "code",
      "execution_count": null,
      "id": "71838d24-05d5-44cb-ae5a-1195fd805622",
      "metadata": {
        "id": "71838d24-05d5-44cb-ae5a-1195fd805622"
      },
      "outputs": [],
      "source": []
    }
  ],
  "metadata": {
    "kernelspec": {
      "display_name": "Python 3 (ipykernel)",
      "language": "python",
      "name": "python3"
    },
    "language_info": {
      "codemirror_mode": {
        "name": "ipython",
        "version": 3
      },
      "file_extension": ".py",
      "mimetype": "text/x-python",
      "name": "python",
      "nbconvert_exporter": "python",
      "pygments_lexer": "ipython3",
      "version": "3.9.6"
    },
    "colab": {
      "provenance": [],
      "include_colab_link": true
    }
  },
  "nbformat": 4,
  "nbformat_minor": 5
}