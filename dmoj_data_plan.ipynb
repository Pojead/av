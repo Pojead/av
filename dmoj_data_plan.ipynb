{
  "nbformat": 4,
  "nbformat_minor": 0,
  "metadata": {
    "colab": {
      "provenance": [],
      "authorship_tag": "ABX9TyOO8qsxMc4YUmBdWIvvvvxs",
      "include_colab_link": true
    },
    "kernelspec": {
      "name": "python3",
      "display_name": "Python 3"
    },
    "language_info": {
      "name": "python"
    }
  },
  "cells": [
    {
      "cell_type": "markdown",
      "metadata": {
        "id": "view-in-github",
        "colab_type": "text"
      },
      "source": [
        "<a href=\"https://colab.research.google.com/github/Pojead/av/blob/main/dmoj_data_plan.ipynb\" target=\"_parent\"><img src=\"https://colab.research.google.com/assets/colab-badge.svg\" alt=\"Open In Colab\"/></a>"
      ]
    },
    {
      "cell_type": "code",
      "execution_count": 7,
      "metadata": {
        "colab": {
          "base_uri": "https://localhost:8080/"
        },
        "id": "Oc24bTG5AmS3",
        "outputId": "8dd1faa8-c373-45e0-ff28-db76252f65cb"
      },
      "outputs": [
        {
          "output_type": "stream",
          "name": "stdout",
          "text": [
            "10\n",
            "3\n",
            "4\n",
            "6\n",
            "2\n",
            "28\n"
          ]
        }
      ],
      "source": [
        "#10\n",
        "#3\n",
        "#4\n",
        "#6\n",
        "#2\n",
        "mb = int(input())\n",
        "excess = 0\n",
        "months = int(input())\n",
        "for m in range(months):\n",
        "  usage = int(input())\n",
        "  excess = excess + mb - usage\n",
        "\n",
        "print(excess + mb)"
      ]
    },
    {
      "cell_type": "code",
      "source": [
        "mb = int(input())\n",
        "months = int(input())\n",
        "total_mb * (months + 1)\n",
        "\n",
        "for m in range(months):\n",
        "  usage = int(input())\n",
        "  total_mb = total_mb usage\n",
        "\n",
        "print(total_mb)"
      ],
      "metadata": {
        "id": "OLUCAqRuCy-W"
      },
      "execution_count": null,
      "outputs": []
    }
  ]
}