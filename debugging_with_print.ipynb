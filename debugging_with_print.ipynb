{
  "nbformat": 4,
  "nbformat_minor": 0,
  "metadata": {
    "colab": {
      "name": "debugging_with_print.ipynb",
      "provenance": [],
      "include_colab_link": true
    },
    "kernelspec": {
      "name": "python3",
      "display_name": "Python 3"
    },
    "language_info": {
      "name": "python"
    }
  },
  "cells": [
    {
      "cell_type": "markdown",
      "metadata": {
        "id": "view-in-github",
        "colab_type": "text"
      },
      "source": [
        "<a href=\"https://colab.research.google.com/github/Pojead/av/blob/main/debugging_with_print.ipynb\" target=\"_parent\"><img src=\"https://colab.research.google.com/assets/colab-badge.svg\" alt=\"Open In Colab\"/></a>"
      ]
    },
    {
      "cell_type": "markdown",
      "source": [
        "# Debugging\n",
        "\n",
        "When you first begin to program, you make a lot of mistakes, and your code doesn’t always work!\n",
        "\n",
        "When you're a skilled programmer, you make mistakes and your code doesn’t always work.\n",
        "\n",
        "**Everyone needs debugging skills.**\n",
        "\n",
        "Debugging is the process of figuring out what is going wrong with your code.There are many ways to debug. This notebook will talk about one specific way: print statement debugging. Print statement debugging is great for beginners because it doesn't require special tools. It's a great way to develop a sense of how to debug effectively.\n",
        "\n",
        "# How to Debug With Print Statements\n",
        "\n",
        "Debugging is not just running your code. It also requires reading your code.\n",
        "\n",
        "* Read your code, and\n",
        "* Read your error messages\n",
        "\n",
        "You should have a little bit of an idea of the general area of code where your bug is occurring.  This is often acheived by matching up the output with the code associated with it.\n",
        "\n",
        "You can narrow your search from there: Place print statements so you know \"where\" you are in the code or print the valuse of variables.\n",
        "\n",
        "#### Which Variables Should You Look at?\n",
        "\n",
        "Look at the ones that seem to be misbehaving.  Put a print statement before and after an update, if the value changing as expected?\n",
        "\n",
        "You can put  a print statement inside of a for Loop so that it prints out the value every time the loop goes through.  This can show you what the value is are and how they are changing.  \n",
        "\n",
        "#### Code Excuting as expected\n",
        "\n",
        "You can put a series of numbers throughout the code. Say print one at the beginning.  Then add print statement in various palces incrementing the number.  Then run the program and look at the output.  If you see the numbers “1” “2” “3” “4” and so on then the program is execusitng as expeted. If a number is missing then you can investigate further to see whay.\n",
        "\n",
        "#### Use Sparingly\n",
        "\n",
        "Too many print statements can very quickly lead to more confusion, especially within loops.So use your print statements sparingly!\n",
        "\n",
        "\n",
        "\n",
        "# Bubble Sort\n",
        "\n",
        "Below is an implementation of the bubble sort algorithm. It iterates or loops several times over the list, and on each iteration, two adjacent values are checked and interchanged, so the bigger one is after the smaller. This makes the bigger values ascend like bubbles in the list."
      ],
      "metadata": {
        "id": "I_Mvaae0FEHh"
      }
    },
    {
      "cell_type": "code",
      "execution_count": 36,
      "metadata": {
        "id": "h8XHUWYkB-nh"
      },
      "outputs": [],
      "source": [
        "#defines a funtion called bubble_sort, taking a list (alist) as an argument\n",
        "def bubble_sort(alist):\n",
        "  '''Sorts a given list in ascending order\n",
        "  >>> bubble_sort([3,4,2,1])\n",
        "  [1,2,3,4]\n",
        "  '''\n",
        "  #defining loop in reverse within the range\n",
        "  for passnum in reversed(range(len(alist) - 1)):\n",
        "    #defines inner loop\n",
        "      for i in range(passnum):\n",
        "        #checks if the current element is greater than the next element\n",
        "          if alist[i] > alist[i + 1]:\n",
        "            #if elements are in wrong order, it swaps them\n",
        "              alist[i], alist[i + 1] = alist[i + 1], alist[i]\n",
        "              #return sorted list\n",
        "  return alist"
      ]
    },
    {
      "cell_type": "markdown",
      "source": [
        "Let us try a few examples"
      ],
      "metadata": {
        "id": "GIaqVlKlIYo2"
      }
    },
    {
      "cell_type": "code",
      "source": [
        "bubble_sort([3,4,2,1])"
      ],
      "metadata": {
        "id": "YJ0VemjrCPv6",
        "outputId": "adafabfc-a6fc-45e7-9eb7-ee917c1304bf",
        "colab": {
          "base_uri": "https://localhost:8080/"
        }
      },
      "execution_count": 37,
      "outputs": [
        {
          "output_type": "execute_result",
          "data": {
            "text/plain": [
              "[2, 3, 4, 1]"
            ]
          },
          "metadata": {},
          "execution_count": 37
        }
      ]
    },
    {
      "cell_type": "code",
      "source": [
        "bubble_sort([7,1,3,4,2,6,5])"
      ],
      "metadata": {
        "id": "JgyQfUTPHefn",
        "outputId": "d51c641d-0390-4f73-9726-245b49f62e14",
        "colab": {
          "base_uri": "https://localhost:8080/"
        }
      },
      "execution_count": 38,
      "outputs": [
        {
          "output_type": "execute_result",
          "data": {
            "text/plain": [
              "[1, 2, 3, 4, 6, 7, 5]"
            ]
          },
          "metadata": {},
          "execution_count": 38
        }
      ]
    },
    {
      "cell_type": "markdown",
      "source": [
        "This is an example of a runtime error.  The code is syntatically correct and runs, just the expected output is incorrect.\n",
        "\n",
        "It almost works, you may notice a pattern but let us use a print statement to try and trace the executation of the program.  \n",
        "\n",
        "There are lots of places you could put a print statement but in this example we will check after the list is updated."
      ],
      "metadata": {
        "id": "vc7m2XskIs4y"
      }
    },
    {
      "cell_type": "code",
      "source": [
        "def bubble_sort(alist):\n",
        "  '''Sorts a given list in ascending order\n",
        "  >>> bubble_sort([3,4,2,1])\n",
        "  [1,2,3,4]\n",
        "  '''\n",
        "  for passnum in reversed(range(len(alist) - 1)):\n",
        "    print(\"DEBUG\", alist) #printing the list list after each sort\n",
        "    for i in range(passnum):\n",
        "        if alist[i] > alist[i + 1]:\n",
        "            alist[i], alist[i + 1] = alist[i + 1], alist[i]\n",
        "  return alist"
      ],
      "metadata": {
        "id": "umaiIrX1Iq3x"
      },
      "execution_count": 39,
      "outputs": []
    },
    {
      "cell_type": "code",
      "source": [
        "bubble_sort([3,4,2,1])"
      ],
      "metadata": {
        "id": "Tg1HDnlDKCFd",
        "outputId": "8e40addc-f002-49f9-87c5-d90988fb576d",
        "colab": {
          "base_uri": "https://localhost:8080/"
        }
      },
      "execution_count": 40,
      "outputs": [
        {
          "output_type": "stream",
          "name": "stdout",
          "text": [
            "DEBUG [3, 4, 2, 1]\n",
            "DEBUG [3, 2, 4, 1]\n",
            "DEBUG [2, 3, 4, 1]\n"
          ]
        },
        {
          "output_type": "execute_result",
          "data": {
            "text/plain": [
              "[2, 3, 4, 1]"
            ]
          },
          "metadata": {},
          "execution_count": 40
        }
      ]
    },
    {
      "cell_type": "code",
      "source": [
        "bubble_sort([7,1,3,4,2,6,5])"
      ],
      "metadata": {
        "id": "GPwW960iKHJh",
        "outputId": "9042df8c-9b5e-4457-e095-b3dd59f582cf",
        "colab": {
          "base_uri": "https://localhost:8080/"
        }
      },
      "execution_count": 41,
      "outputs": [
        {
          "output_type": "stream",
          "name": "stdout",
          "text": [
            "DEBUG [7, 1, 3, 4, 2, 6, 5]\n",
            "DEBUG [1, 3, 4, 2, 6, 7, 5]\n",
            "DEBUG [1, 3, 2, 4, 6, 7, 5]\n",
            "DEBUG [1, 2, 3, 4, 6, 7, 5]\n",
            "DEBUG [1, 2, 3, 4, 6, 7, 5]\n",
            "DEBUG [1, 2, 3, 4, 6, 7, 5]\n"
          ]
        },
        {
          "output_type": "execute_result",
          "data": {
            "text/plain": [
              "[1, 2, 3, 4, 6, 7, 5]"
            ]
          },
          "metadata": {},
          "execution_count": 41
        }
      ]
    },
    {
      "cell_type": "markdown",
      "source": [
        "Analyzing the output, we realize that the ....\n",
        "\n",
        "....  Sometimes you are sure of the fix, sometimes you have an educated guess and try a fix.\n"
      ],
      "metadata": {
        "id": "1oV7GzpmKasQ"
      }
    },
    {
      "cell_type": "code",
      "source": [
        "def bubble_sort(alist):\n",
        "  '''Sorts a given list in ascending order\n",
        "  >>> bubble_sort([3,4,2,1])\n",
        "  [1,2,3,4]\n",
        "  '''\n",
        "  for passnum in reversed(range(len(alist) - 1)):\n",
        "    print(\"DEBUG\", alist) #printing the list list after each sort\n",
        "    for i in range(passnum):\n",
        "        if alist[i] < alist[i + 1]:\n",
        "            alist[i], alist[i + 1] = alist[i + 1], alist[i]\n",
        "  return alist\n",
        "  pass"
      ],
      "metadata": {
        "id": "AQvRLZyVKY7r"
      },
      "execution_count": 42,
      "outputs": []
    },
    {
      "cell_type": "code",
      "source": [
        "bubble_sort([3,4,2,1])"
      ],
      "metadata": {
        "id": "MIwiXjZFMsSF",
        "outputId": "b693b044-b6f2-4c6f-a773-d2dc53e60465",
        "colab": {
          "base_uri": "https://localhost:8080/"
        }
      },
      "execution_count": 44,
      "outputs": [
        {
          "output_type": "execute_result",
          "data": {
            "text/plain": [
              "[2, 3, 4, 1]"
            ]
          },
          "metadata": {},
          "execution_count": 44
        }
      ]
    },
    {
      "cell_type": "code",
      "source": [
        "bubble_sort([7,1,3,4,2,6,5])"
      ],
      "metadata": {
        "id": "6YnvMrNEdmZw",
        "outputId": "59a247f0-c9ba-474f-ed45-f33ca2bf8c5e",
        "colab": {
          "base_uri": "https://localhost:8080/"
        }
      },
      "execution_count": 45,
      "outputs": [
        {
          "output_type": "execute_result",
          "data": {
            "text/plain": [
              "[1, 2, 3, 4, 6, 7, 5]"
            ]
          },
          "metadata": {},
          "execution_count": 45
        }
      ]
    },
    {
      "cell_type": "markdown",
      "source": [
        "Once you are happy it is working.  Remove or comment out the print() statement."
      ],
      "metadata": {
        "id": "142Msl3UMz08"
      }
    },
    {
      "cell_type": "code",
      "source": [
        "def bubble_sort(alist):\n",
        "  '''Sorts a given list in ascending order\n",
        "  >>> bubble_sort([3,4,2,1])\n",
        "  [1,2,3,4]\n",
        "  '''\n",
        "  pass"
      ],
      "metadata": {
        "id": "nXGowQG7MyGp"
      },
      "execution_count": 46,
      "outputs": []
    },
    {
      "cell_type": "code",
      "source": [
        "bubble_sort([7,1,3,4,2,6,5])"
      ],
      "metadata": {
        "id": "eMNdpicmM9uF"
      },
      "execution_count": 47,
      "outputs": []
    },
    {
      "cell_type": "code",
      "source": [],
      "metadata": {
        "id": "Vkt62QK6NBQ0"
      },
      "execution_count": 47,
      "outputs": []
    }
  ]
}